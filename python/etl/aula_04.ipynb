{
 "cells": [
  {
   "cell_type": "markdown",
   "metadata": {},
   "source": [
    "# Ferramentas aplicadas para ETL"
   ]
  },
  {
   "cell_type": "markdown",
   "metadata": {},
   "source": [
    "## Ferramentas utilizadas"
   ]
  },
  {
   "cell_type": "markdown",
   "metadata": {},
   "source": [
    "- ### As ferramentas são softwares utilizados para facilitar o processo de integração de dados. Inicialmente muito usados em projetos de Data Warehouse e Business Intelligence em geral, ultimamente tem sido utilizados em processos de integração de software, bancos de dados etc."
   ]
  },
  {
   "cell_type": "markdown",
   "metadata": {},
   "source": [
    "## Existem diversas ferramentas de ELE, como:"
   ]
  },
  {
   "cell_type": "markdown",
   "metadata": {},
   "source": [
    "- ### IBM Data Stage"
   ]
  },
  {
   "cell_type": "markdown",
   "metadata": {},
   "source": [
    "- ### Power Center"
   ]
  },
  {
   "cell_type": "markdown",
   "metadata": {},
   "source": [
    "- ### Sql Server Integration Services"
   ]
  },
  {
   "cell_type": "markdown",
   "metadata": {},
   "source": [
    "- ### Talend ETL"
   ]
  },
  {
   "cell_type": "markdown",
   "metadata": {},
   "source": [
    "## ETL para Big Data"
   ]
  },
  {
   "cell_type": "markdown",
   "metadata": {},
   "source": [
    "### Hoje com o crescimento dos projetos de Big Data aumenta-se mais ainda a necessidade de fazer ETL entre plataformas heterogêneas, para isso, projetos com o Hadoop, possuem ferramentas próprias para carga de dados, como:"
   ]
  },
  {
   "cell_type": "markdown",
   "metadata": {},
   "source": [
    "- #### SQOOP - Ferramenta para movimentar dados dentre bancos de dados relacionais e o ambiente Hadoop."
   ]
  },
  {
   "cell_type": "markdown",
   "metadata": {},
   "source": [
    "- #### HIVE - Ambiente de SQL sobre um cluster Hadoop."
   ]
  },
  {
   "cell_type": "markdown",
   "metadata": {},
   "source": [
    "- #### PIG - Ferramenta de Script para transformação e processamento de dados."
   ]
  },
  {
   "cell_type": "markdown",
   "metadata": {},
   "source": [
    "- #### Spark - Framework de processamento em memória."
   ]
  },
  {
   "cell_type": "markdown",
   "metadata": {},
   "source": [
    "### Mesmo com todas as possibilidade acima, vemos as ferramentas de ETL se adaptando para Big Data ou gerando códigos para serem rodados nessas ferramentas do Ecossistema Hadoop."
   ]
  },
  {
   "cell_type": "markdown",
   "metadata": {},
   "source": [
    "### Em Big Data, o processo de carga também é conhecido como Ingestão de Dados, que geralmente é a primeira parte da carga (Extract) a parte mais simples do processo, que consiste em extrair dados dos sistemas de origem e trazer para dentro do Data Lake ou ambiente de dados utilizado."
   ]
  },
  {
   "cell_type": "markdown",
   "metadata": {},
   "source": []
  }
 ],
 "metadata": {
  "language_info": {
   "name": "python"
  },
  "orig_nbformat": 4
 },
 "nbformat": 4,
 "nbformat_minor": 2
}
