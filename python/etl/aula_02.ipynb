{
 "cells": [
  {
   "cell_type": "markdown",
   "metadata": {},
   "source": [
    "# Intro para ETL"
   ]
  },
  {
   "cell_type": "markdown",
   "metadata": {},
   "source": [
    "## Mas o que é ETL?\n",
    "\n",
    "  - ### ETL é um tipo de **data integration** em três etapas (extração, transformação, carregamento) usado para combinar dados de diversas fontes.\n",
    "  - ### Ele é comumente utilizado para construir um data warehouse.\n",
    "\n",
    "    - ### Extract(Extrair): \n",
    "      - #### Importar dados de diversos tipos e formatos como: \n",
    "        - #### Pasta de Trabalho\n",
    "        - #### Bancos de dados\n",
    "        - #### CSV\n",
    "        - #### TXT\n",
    "        - #### JSON\n",
    "        - #### etc.\n",
    "    \n",
    "    - ### Transform(Transformar):\n",
    "      - #### Colunas, Linhas\n",
    "      - #### Tipos de Dados\n",
    "      - #### Mesclar, Acrescentar\n",
    "      - #### Listas, Tabelas\n",
    "\n",
    "    - ### Load(Carregar):\n",
    "      - #### Para o modelo de dados.\n",
    "\n",
    "  - ### ETLs são ferramentas de software cuja função é a extração de dados de diversos sistemas, transformação desses dados conforme regras de negócio e por fim o carregamento dos dados geralmente para uma Data Mart e/ou Data Warehouse"
   ]
  },
  {
   "cell_type": "markdown",
   "metadata": {},
   "source": [
    "- ### Nesse processo, os dados são retirados(extraídos) de um sistema-fonte, convertidos(transformados) em um formato que possa ser analisado, e armazenados(carregados) em nuvem ou outro sistema.\n",
    "- ### Extração, carregamento, transoformação (ETL) é uma abordagem alternativa, embora relacionada, projetada para jogar o processamento para o banco de dados, de modo a aprimorar a performance."
   ]
  },
  {
   "cell_type": "markdown",
   "metadata": {},
   "source": [
    "## Ferramentas\n",
    "\n",
    "  - ### Existem muitas ferramentas de ETL disponíveis no mercado como: IBM Information Server(Data Stage), o Oracle Data Integrator(ODI), o Informatica Power Center, o Microsoft Integration Services(SSIS). \n",
    "  - ### Existe também um conjunto de ferramentas de ETL Open Source como o PDI - Pentaho Data Integrator e Talend ETL."
   ]
  },
  {
   "cell_type": "markdown",
   "metadata": {},
   "source": [
    "## Processo de ETL"
   ]
  },
  {
   "cell_type": "markdown",
   "metadata": {},
   "source": [
    "- ### O processo de extração, transformação e carregamento (ETL) abrange alguns passos importantes. Como por exemplo, podemos considerar um Banco de dados de Clientes Especiais com todas as informações essenciais."
   ]
  },
  {
   "cell_type": "markdown",
   "metadata": {},
   "source": [
    "- ### No mapeamento, a extração de origem deve conter a especificação da identidade e seus atributos detalhados, tudo armazenado numa zona temporária. Quando forem efetuadas as análises e filtragens dos dados, a nova versão poderá ser comparada com a cópia da versão prévia."
   ]
  },
  {
   "cell_type": "markdown",
   "metadata": {},
   "source": [
    "- ### A transofrmação inclui limpeza, racionalização e complementação dos registro. O precoss de limpeza removerá erros e padronizará as informações. \n",
    "- ### O processo de complementação implicará no acréscimo de dados."
   ]
  }
 ],
 "metadata": {
  "language_info": {
   "name": "python"
  },
  "orig_nbformat": 4
 },
 "nbformat": 4,
 "nbformat_minor": 2
}
