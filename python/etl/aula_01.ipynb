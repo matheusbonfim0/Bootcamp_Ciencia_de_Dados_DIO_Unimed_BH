{
 "cells": [
  {
   "cell_type": "markdown",
   "metadata": {},
   "source": [
    "# ETL "
   ]
  },
  {
   "cell_type": "markdown",
   "metadata": {},
   "source": [
    "## Objetivo Geral \n",
    "\n",
    "  ### Os processos de ETL, do inglês Extract, Transform and Load(Extrair, Transformar e Carregar), envolvem ferramentas de software, voltadas para a extração de dados de diversos sistemas e também, a transformação desses dados conforme regras de negócios bem definidas e, por fim, o carregamento dos dados para um Data Mart e/ou Data Warehouse."
   ]
  }
 ],
 "metadata": {
  "language_info": {
   "name": "python"
  },
  "orig_nbformat": 4
 },
 "nbformat": 4,
 "nbformat_minor": 2
}
