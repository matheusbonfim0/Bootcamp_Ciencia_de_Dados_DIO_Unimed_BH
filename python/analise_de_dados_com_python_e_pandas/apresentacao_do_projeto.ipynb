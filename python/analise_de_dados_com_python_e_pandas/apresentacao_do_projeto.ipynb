{
 "cells": [
  {
   "cell_type": "markdown",
   "metadata": {},
   "source": [
    "# Data Science\n",
    "\n",
    "  - ### É uma ciência que estuda as informações, seu processo de captura, transformação, geração e posteriormente, análise de dados."
   ]
  },
  {
   "cell_type": "markdown",
   "metadata": {},
   "source": [
    "- ## Linguagens mais utilizadas: \n",
    "\n",
    "  - ### Python\n",
    "  - ### R\n",
    "\n",
    "  - #### Existem também 2 linguagens crescendo bastante que são a linguagem Julia e a linguagem Scala"
   ]
  },
  {
   "cell_type": "markdown",
   "metadata": {},
   "source": [
    "- ## Biblioteca Pandas\n",
    "\n",
    "  - ### Pandas é a biblioteca Python de código aberto para a análise de dados. Ele dá ao Python a capacidade de trabalahar com dados tipo planilha, permitindo carregar, manipular, alinhas e combinar dados rapidamente, entre outras funções."
   ]
  },
  {
   "cell_type": "markdown",
   "metadata": {},
   "source": []
  }
 ],
 "metadata": {
  "kernelspec": {
   "display_name": "Python 3.10.6 64-bit",
   "language": "python",
   "name": "python3"
  },
  "language_info": {
   "name": "python",
   "version": "3.10.6"
  },
  "orig_nbformat": 4,
  "vscode": {
   "interpreter": {
    "hash": "98590ff4fe04c8543246b2a01debd3de3c5ca9b666f43f1fa87d5110c692004c"
   }
  }
 },
 "nbformat": 4,
 "nbformat_minor": 2
}
