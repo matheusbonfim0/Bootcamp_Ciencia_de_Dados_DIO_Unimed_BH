{
 "cells": [
  {
   "cell_type": "markdown",
   "metadata": {},
   "source": [
    "# Passos para subir o pacote"
   ]
  },
  {
   "cell_type": "markdown",
   "metadata": {},
   "source": [
    "- ### Criar conta no Test Pypi\n",
    "- ### Publicar no Test Pypi\n",
    "- ### Instalar pacote usando Test Pypi\n",
    "- ### Testar pacote\n",
    "- ### Criar conta no Pypi\n",
    "- ### Publicar no Pypi\n",
    "- ### Instalar pacote usando Pypi"
   ]
  },
  {
   "cell_type": "markdown",
   "metadata": {},
   "source": [
    "## Links para criação das contas"
   ]
  },
  {
   "cell_type": "markdown",
   "metadata": {},
   "source": [
    "- ### https://pypi.org/account/register/\n",
    "- ### https://test.pypi.org/account/register/"
   ]
  },
  {
   "cell_type": "markdown",
   "metadata": {},
   "source": [
    "## Comandos para publicar no Test Pypi"
   ]
  },
  {
   "cell_type": "markdown",
   "metadata": {},
   "source": [
    "### python -m twine upload --repository-url https://test.pypi.org/legacy/ dist/*"
   ]
  },
  {
   "cell_type": "markdown",
   "metadata": {},
   "source": [
    "## Comandos para publicar no Pypi"
   ]
  },
  {
   "cell_type": "markdown",
   "metadata": {},
   "source": [
    "### python -m twine upload --repository-url https://upload.pypi.org/legacy/ dist/*"
   ]
  },
  {
   "cell_type": "markdown",
   "metadata": {},
   "source": []
  }
 ],
 "metadata": {
  "language_info": {
   "name": "python"
  },
  "orig_nbformat": 4
 },
 "nbformat": 4,
 "nbformat_minor": 2
}
