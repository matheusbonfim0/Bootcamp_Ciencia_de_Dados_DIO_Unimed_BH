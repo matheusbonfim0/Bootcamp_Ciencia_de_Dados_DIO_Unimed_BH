{
 "cells": [
  {
   "cell_type": "markdown",
   "metadata": {},
   "source": [
    "## Entender o funcionamento da estrutura de dados"
   ]
  },
  {
   "cell_type": "markdown",
   "metadata": {},
   "source": [
    "## Criando listas\n",
    "\n",
    "  - Listas em Python podem armazenar de maneira sequencial qualquer tipo de objeto. Podemos criar listas utilizando o contrutor 'list', a função range ou colocando valores separados por vírgula dentro de colchetes.\n",
    "  - Listas são objetos mutáveis, portanto podemos alterar seus valores após a criação."
   ]
  },
  {
   "cell_type": "markdown",
   "metadata": {},
   "source": [
    "### Exemplo:"
   ]
  },
  {
   "cell_type": "code",
   "execution_count": 1,
   "metadata": {},
   "outputs": [],
   "source": [
    "frutas = ['laranja', 'maca', 'uva']\n",
    "frutas = []\n",
    "\n",
    "letras = list('python')\n",
    "\n",
    "numeros = list(range(10))\n",
    "\n",
    "carro = ['Ferrari', 'F8', 4200000, 2020, 2900, 'São Paulo', True]"
   ]
  },
  {
   "cell_type": "markdown",
   "metadata": {},
   "source": [
    "### Acesso direto\n",
    "\n",
    "  - #### A lista é uma sequência, portanto podemos acesssar seus dados utilizando índices. \n",
    "  - #### Contamos o índice de determinada sequência a partir do zero\n",
    "  - #### Sequências suportam indexação negativa. A contagem começa em -1."
   ]
  },
  {
   "cell_type": "markdown",
   "metadata": {},
   "source": [
    "### Listas aninhadas\n",
    "\n",
    "  - #### Listas podem armazenar todos os tipos de objetos Python, portanto podemos ter listas que armazenam outras listas.\n",
    "    ####   Com isso podemos criar estruturas bidimensionais(tabelas), e acessar informando os índices de linha e coluna"
   ]
  },
  {
   "cell_type": "markdown",
   "metadata": {},
   "source": [
    "### Fatiamento\n",
    "\n",
    "  -  #### Além de acessar elementos diretamente, podemos extrair um conjunto de valores de uma sequência. Para isso basta passar o índice inicial e/ou final para acessar o conjunto. Podemos ainda informar quantas posições o cursor deve 'pular' no acesso."
   ]
  },
  {
   "cell_type": "markdown",
   "metadata": {},
   "source": [
    "### Iterar listas\n",
    "\n",
    "  - #### A forma mais comum para percorrer os dados de uma lista é utilizando o comando **for**."
   ]
  },
  {
   "cell_type": "markdown",
   "metadata": {},
   "source": [
    "### Compreensão de listas\n",
    "\n",
    "  - #### A compreensão de lista oferece uma sintaxe mais curta quando você deseja: criar uma nova lista com base nos valores de uma lista existente (filtro) ou gerar uma nova lista aplicando alguma modificação nos elementos de uma lista existente."
   ]
  },
  {
   "cell_type": "markdown",
   "metadata": {},
   "source": [
    "- #### Exemplo: \n",
    "\n",
    "  - #### numeros = [1, 30, 21, 2, 9, 65, 34]\n",
    "  - #### pares = [numero for numeros in numeros if numero % 2 == 0]\n"
   ]
  },
  {
   "cell_type": "markdown",
   "metadata": {},
   "source": []
  }
 ],
 "metadata": {
  "kernelspec": {
   "display_name": "Python 3.10.6 64-bit",
   "language": "python",
   "name": "python3"
  },
  "language_info": {
   "codemirror_mode": {
    "name": "ipython",
    "version": 3
   },
   "file_extension": ".py",
   "mimetype": "text/x-python",
   "name": "python",
   "nbconvert_exporter": "python",
   "pygments_lexer": "ipython3",
   "version": "3.10.6"
  },
  "orig_nbformat": 4,
  "vscode": {
   "interpreter": {
    "hash": "98590ff4fe04c8543246b2a01debd3de3c5ca9b666f43f1fa87d5110c692004c"
   }
  }
 },
 "nbformat": 4,
 "nbformat_minor": 2
}
