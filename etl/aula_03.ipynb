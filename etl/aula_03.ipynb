{
 "cells": [
  {
   "cell_type": "markdown",
   "metadata": {},
   "source": [
    "# Etapas para um processo de ETL"
   ]
  },
  {
   "cell_type": "markdown",
   "metadata": {},
   "source": [
    "## 3 Etapas"
   ]
  },
  {
   "cell_type": "markdown",
   "metadata": {},
   "source": [
    "- ### Extract\n",
    "  - #### O processo de extração de dados consiste em se comunicar com outros sistemas ou bancos de dados para capturar os dados que serão inseridos no distino, seja uma Staging Area ou outro sistema"
   ]
  },
  {
   "cell_type": "markdown",
   "metadata": {},
   "source": [
    "- ### Transform\n",
    "  - #### O processo de Transformação de Dados é composto por várias etapas: padronização, limpeza, qualidade. Dados vindos de sistemas diferentes tem padrões diferentes seja de nomenclatura ou mesmo de tipos de dados (VARCHAR2 Oracle ou VARCHAR Sql Server.)"
   ]
  },
  {
   "cell_type": "markdown",
   "metadata": {},
   "source": [
    "- ### Load \n",
    "  - #### O processo de Load é a etapa final onde os dados são lidos das áreas de staging e preparação de dados, carregados no Data Warehouse ou Data Mart Final."
   ]
  },
  {
   "cell_type": "markdown",
   "metadata": {},
   "source": [
    "## Algumas vantagens para ETL"
   ]
  },
  {
   "cell_type": "markdown",
   "metadata": {},
   "source": [
    "### Garantia significativa da qualidade dos dados\n",
    "  - #### A ferramenta de ETL, através de sequências de operaçÕes e instruções tem condições de solucionar problemas de maior complexidade"
   ]
  },
  {
   "cell_type": "markdown",
   "metadata": {},
   "source": [
    "### Funcionalidade de execução\n",
    "\n",
    "  - #### Uma ferramenta de ETL já possui suas funções específicas, sendo necessária apenas a atenção no fluxo de dados."
   ]
  },
  {
   "cell_type": "markdown",
   "metadata": {},
   "source": [
    "### Desenvolvimento das cargas\n",
    "\n",
    "  - #### Mesmo que o usuário não seja técnico poderá desenvolver uma rotina de carga em uma ferramenta de ETL, devido a facilidade e rapized para codificação."
   ]
  },
  {
   "cell_type": "markdown",
   "metadata": {},
   "source": [
    "### Manutenção das cargas\n",
    "\n",
    "  - #### As tarefas de manutenção de uma rotina de carga são mais simples de realizar em relação à manutenção de código."
   ]
  },
  {
   "cell_type": "markdown",
   "metadata": {},
   "source": [
    "### Metainformação\n",
    "\n",
    "  - #### Os metadados (informações úteis para identificar, localizar, entender e gerenciar os dados) são gerados e mantidos de forma automática com a ferramenta, evitando problemas de geração de informações incorretas na finalização do processo."
   ]
  },
  {
   "cell_type": "markdown",
   "metadata": {},
   "source": [
    "### Performance\n",
    "\n",
    "  - #### Os métodos mais usados para trabalhar com grandes volumes conseguem extrair, transformar e carregar dados com maior velocidade e menos recursos, como gravações em bloco e operações não logadas."
   ]
  },
  {
   "cell_type": "markdown",
   "metadata": {},
   "source": [
    "### Transferência\n",
    "\n",
    "  - #### Ferramentas de ETL podem ser deslocadas de um servidor mais facilmente ou distribuídas entre vários servidores."
   ]
  },
  {
   "cell_type": "markdown",
   "metadata": {},
   "source": [
    "### Conectividade\n",
    "\n",
    "  - #### A conexão de uma ferramenta de ETL com múltiplas fontes de dados é transparente. Caso sejam precisas mais fontes como o SAP, VSAM, Mainframe ou qualquer outra, basta a aquisição do conector sem a necessidade de codificar um. "
   ]
  },
  {
   "cell_type": "markdown",
   "metadata": {},
   "source": [
    "### Reinicialização\n",
    "\n",
    "  - #### Ferramentas possuem a capacidade de reiniciar a carga de onde pararam sem a necessidade de codificação"
   ]
  },
  {
   "cell_type": "markdown",
   "metadata": {},
   "source": [
    "### Segurança e Estabilidade\n",
    "\n",
    "  - #### É possível articular melhor a segurança tornando-a mais modular, dividindo as finalidades (criação de cargas, execução de cargas, agendamento etc.)"
   ]
  },
  {
   "cell_type": "markdown",
   "metadata": {},
   "source": [
    "\n"
   ]
  }
 ],
 "metadata": {
  "language_info": {
   "name": "python"
  },
  "orig_nbformat": 4
 },
 "nbformat": 4,
 "nbformat_minor": 2
}
