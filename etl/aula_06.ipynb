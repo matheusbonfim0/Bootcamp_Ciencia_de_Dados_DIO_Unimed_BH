{
 "cells": [
  {
   "cell_type": "markdown",
   "metadata": {},
   "source": [
    "# Biblioteca Pandas"
   ]
  },
  {
   "cell_type": "markdown",
   "metadata": {},
   "source": [
    "## DataFrame"
   ]
  },
  {
   "cell_type": "markdown",
   "metadata": {},
   "source": [
    "- ### Agora se visualizarmos novamente os primeiros 4 dados do nosso conjuntos, veremos que dados os valores passados para na_values, além dos próprios dados ausentes, foram substituídos por NaN.\n",
    "\n",
    "  - df.head(n=4)\n",
    "  - df.shape\n",
    "  - df.info() -> informa o tipo de dados que estão disponibilizados"
   ]
  },
  {
   "cell_type": "markdown",
   "metadata": {},
   "source": [
    "### Alterações\n",
    "\n",
    "  - #### Na sequência, podemos visualizar quais são nossas colunas existente e até mesmo alterar esses nomes, basta passar o novo conjunto de nomes desejados com a mesma quantidade de colunas existente no conjunto original"
   ]
  }
 ],
 "metadata": {
  "language_info": {
   "name": "python"
  },
  "orig_nbformat": 4
 },
 "nbformat": 4,
 "nbformat_minor": 2
}
