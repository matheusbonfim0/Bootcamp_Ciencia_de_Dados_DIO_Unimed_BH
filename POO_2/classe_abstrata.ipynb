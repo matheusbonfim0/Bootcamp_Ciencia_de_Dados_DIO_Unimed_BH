{
 "cells": [
  {
   "cell_type": "markdown",
   "metadata": {},
   "source": [
    "# Criando classes abstratas com o módulo ABC"
   ]
  },
  {
   "cell_type": "markdown",
   "metadata": {},
   "source": [
    "### Por padrão, o Python não fornece classes abstratas. O python vem com um módulo que fornece a base para definir as classes abstratas, e o nome do módulo é ABC. O ABC funciona decorando métodos da classe base como abstratos e, em seguida, registrando classes concretas como implementações da base abstrata. Um método se torna abstrato quando decorado com @abstractmethod."
   ]
  },
  {
   "cell_type": "code",
   "execution_count": null,
   "metadata": {},
   "outputs": [],
   "source": [
    "from abc import ABC, abstractmethod\n",
    "\n",
    "class ControleRemoto(ABC):\n",
    "\n",
    "  @abstractmethod\n",
    "  def ligar(self):\n",
    "    pass\n",
    "\n",
    "  @abstractmethod\n",
    "  def desligar(self):\n",
    "   pass\n",
    "\n",
    "class ControleTV(ControleRemoto):\n",
    "  def ligar(self):\n",
    "    print('Ligando TV')\n",
    "\n",
    "  def desligar(self):\n",
    "    print('desligando TV')\n",
    "\n"
   ]
  }
 ],
 "metadata": {
  "language_info": {
   "name": "python"
  },
  "orig_nbformat": 4
 },
 "nbformat": 4,
 "nbformat_minor": 2
}
