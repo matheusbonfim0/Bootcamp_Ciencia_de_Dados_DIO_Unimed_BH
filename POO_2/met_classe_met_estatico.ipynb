{
 "cells": [
  {
   "cell_type": "markdown",
   "metadata": {},
   "source": [
    "# O que são e como utilizamos"
   ]
  },
  {
   "cell_type": "markdown",
   "metadata": {},
   "source": [
    "## Métodos de classe"
   ]
  },
  {
   "cell_type": "markdown",
   "metadata": {},
   "source": [
    "### Métodos de classe estão ligados à classe e não ao objeto. Eles têm acesso ao estado da classe, pois recebem um parâmetro que aponta para a classe e não para a instância do objeto."
   ]
  },
  {
   "cell_type": "markdown",
   "metadata": {},
   "source": [
    "## Métodos estáticos"
   ]
  },
  {
   "cell_type": "markdown",
   "metadata": {},
   "source": [
    "### Um método estático não recebe um primeiro argumento explícito. Eke também é um método vinculado à classe e não ao objeto da classe. Este método não pode acessar ou modificar o estado da classe. Ele está presente em uma classe porque faz sentido que o método esteja presente na classe."
   ]
  },
  {
   "cell_type": "markdown",
   "metadata": {},
   "source": [
    "## Quando utilizar cada método"
   ]
  },
  {
   "cell_type": "markdown",
   "metadata": {},
   "source": [
    "- ### Um método de classe recebe um primeiro parâmetro que aponta para a classe, enquanto um método estático não"
   ]
  },
  {
   "cell_type": "markdown",
   "metadata": {},
   "source": [
    "- ### Um método de classe pode acessar ou modificar o estado da classe enquanto um método estático não pode acessá-lo ou modificá-lo"
   ]
  },
  {
   "cell_type": "markdown",
   "metadata": {},
   "source": [
    "- ### Geralmente usamos o método de classe para criar métodos de fábrica"
   ]
  },
  {
   "cell_type": "markdown",
   "metadata": {},
   "source": [
    "- ### Geralmente usamos métodos estáticos para criar funções utilitárias"
   ]
  },
  {
   "cell_type": "code",
   "execution_count": null,
   "metadata": {},
   "outputs": [],
   "source": [
    "class Pessoa:\n",
    "  def __init__(self, nome, idade):\n",
    "    self.nome = nome\n",
    "    self.idade = idade\n",
    "\n",
    "  @classmethod\n",
    "  def criar_apartir_data_nascimento(cls, ano, mes, dia, nome):\n",
    "    idade = 2022 - ano\n",
    "    return cls(nome, idade)\n",
    "\n",
    "  @staticmethod\n",
    "  def e_maior_idade(idade):\n",
    "    return idade >= 18\n",
    "\n",
    "# p = Pessoa('Matheus', 26)\n",
    "# print(p.nome, p.idade)\n",
    "\n",
    "p = Pessoa.criar_apartir_data_nascimento(1996, 6, 12, 'Matheus')\n",
    "\n",
    "p2 = Pessoa.e_maior_idade(26) "
   ]
  }
 ],
 "metadata": {
  "kernelspec": {
   "display_name": "Python 3.10.6 64-bit",
   "language": "python",
   "name": "python3"
  },
  "language_info": {
   "name": "python",
   "version": "3.10.6"
  },
  "orig_nbformat": 4,
  "vscode": {
   "interpreter": {
    "hash": "98590ff4fe04c8543246b2a01debd3de3c5ca9b666f43f1fa87d5110c692004c"
   }
  }
 },
 "nbformat": 4,
 "nbformat_minor": 2
}
