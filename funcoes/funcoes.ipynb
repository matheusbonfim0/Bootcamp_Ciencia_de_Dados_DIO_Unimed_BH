{
 "cells": [
  {
   "cell_type": "markdown",
   "metadata": {},
   "source": [
    "# O que são funções?"
   ]
  },
  {
   "cell_type": "markdown",
   "metadata": {},
   "source": [
    "- ## Função é um bloco de código identificado por um nome e pode receber uma lista de parâmetros, esses parâmetros podem ou não ter valores padrões.\n",
    "- ## Usar funções torna o código mais legível e possibilita o reaproveitamento de código. Programar baseado em funções, é o mesmo que dizer que estamos programando de maneira estruturada"
   ]
  },
  {
   "cell_type": "markdown",
   "metadata": {},
   "source": [
    "## Retornando valores\n",
    "\n",
    "  - ### Para retornar um valor, utilizamos a palabra reservada return.\n",
    "  - ### Toda função Python retorna None por padrão. Diferente de outras linguages de programação, em Python uma função pode retornar mais de um valor."
   ]
  },
  {
   "cell_type": "markdown",
   "metadata": {},
   "source": [
    "## Argumentos nomeados\n",
    "\n",
    "  - ### Funções também podem ser chamadas usando argumentos nomeados da forma chave = valor."
   ]
  },
  {
   "cell_type": "markdown",
   "metadata": {},
   "source": [
    "## Args e kwargs\n",
    "\n",
    "  - ### Podemos combinar parâmetros obrigatórios com args e kwargs. Quando esses são definidos (*args e **kwargs), o método recebe os valores como tupla e dicionário respectivamente"
   ]
  },
  {
   "cell_type": "markdown",
   "metadata": {},
   "source": [
    "## Parâmetros especiais\n",
    "\n",
    "  - ### Por padrão argumentos podem ser passados para uma função python tanto por posição quanto explicitamente pelo nome.\n",
    "  - ### Para uma melhor legibilidade e desempenho, faz sentido restringir a maneira pelo qual argumentos possam ser passados, assim um desenvolve dor precisa apenas olhar para a definição da função para determinar se os itens são passados por posição, por posição e nome, ou por nome. "
   ]
  },
  {
   "cell_type": "markdown",
   "metadata": {},
   "source": [
    "## Objetos de primeira classe\n",
    "\n",
    "  - ### Em Python tudo é objeto, dessa forma **funções também são objetos** o que as tornam objetos de primeira classe.\n",
    "  - ### Com isso podemos **atribuir funções a variáveis, passá-las como parâmetro para funções, usá-las como valores em estruturas de dados** (listas, tuplas, dicionários etc) e usar como valor de retorno para uma função (closures)."
   ]
  },
  {
   "cell_type": "markdown",
   "metadata": {},
   "source": [
    "## Escopo local e escopo global\n",
    "\n",
    "  - ### Python trabalha com escopo local e global, dentro do bloco da função o escopo é local. Portanto alterações ali feitas em objetos imutáveis serão perdidas quando o método terminar de ser executado. \n",
    "  - ### Para usar objetos globais utilizamos a palavra-chave **global**, que informa ao interpretador que a variável que está sendo manipulada no escopo local é global.\n",
    "  Essa não é uma boa prática e deve ser evitada"
   ]
  },
  {
   "cell_type": "markdown",
   "metadata": {},
   "source": []
  }
 ],
 "metadata": {
  "language_info": {
   "name": "python"
  },
  "orig_nbformat": 4
 },
 "nbformat": 4,
 "nbformat_minor": 2
}
