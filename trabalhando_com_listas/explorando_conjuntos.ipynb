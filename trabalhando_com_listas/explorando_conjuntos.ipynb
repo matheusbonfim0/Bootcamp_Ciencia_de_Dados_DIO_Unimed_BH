{
 "cells": [
  {
   "cell_type": "markdown",
   "metadata": {},
   "source": [
    "## Criando sets\n",
    "\n",
    "  - ### Um set é uma coleção que não possui objetos repetidos, usamos sets para representar conjuntos matemáticos ou eliminar itens duplicados de um iterável."
   ]
  },
  {
   "cell_type": "markdown",
   "metadata": {},
   "source": [
    " ## Acessando os dados\n",
    "\n",
    "  - ### Conjuntos em python não suportam indexação e nem fatiamento, caso queira acessar os seus valores é necessário converter o conjunto para lista."
   ]
  },
  {
   "cell_type": "markdown",
   "metadata": {},
   "source": [
    "## Iterar conjuntos\n",
    "\n",
    "  - ### A forma mais comum para percorrer os dados de um conjunto é utilizando o comando **for**"
   ]
  },
  {
   "cell_type": "code",
   "execution_count": null,
   "metadata": {},
   "outputs": [],
   "source": [
    "carros = {'gol', 'celta', 'palio'}\n",
    "\n",
    "for carro in carros:\n",
    "  print(carro)"
   ]
  },
  {
   "cell_type": "markdown",
   "metadata": {},
   "source": [
    "## Função enumerate\n",
    "\n",
    "  - ### Às vezes é necessário saber qual o índice do objeto dentro do laço **for**. Para isso podemos usar a função **enumerate**."
   ]
  },
  {
   "cell_type": "code",
   "execution_count": null,
   "metadata": {},
   "outputs": [],
   "source": [
    "carros = {'gol', 'celta', 'palio'}\n",
    "\n",
    "for indice, carro in enumerate(carros):\n",
    "  print(f'{indice}: {carro}')"
   ]
  },
  {
   "cell_type": "markdown",
   "metadata": {},
   "source": [
    "## Métodos da classe set "
   ]
  },
  {
   "cell_type": "markdown",
   "metadata": {},
   "source": [
    "## {}.union"
   ]
  },
  {
   "cell_type": "code",
   "execution_count": null,
   "metadata": {},
   "outputs": [],
   "source": [
    "conjunto_a = {1, 2}\n",
    "conjunto_b = {3, 4}\n",
    "\n",
    "conjunto_a.union(conjunto_b)"
   ]
  },
  {
   "cell_type": "markdown",
   "metadata": {},
   "source": [
    "## {}.intersection"
   ]
  },
  {
   "cell_type": "code",
   "execution_count": null,
   "metadata": {},
   "outputs": [],
   "source": [
    "conjunto_a = {1, 2, 3}\n",
    "conjunto_b = {2, 3, 4}\n",
    "\n",
    "conjunto_a.intersection(conjunto_b)"
   ]
  },
  {
   "cell_type": "markdown",
   "metadata": {},
   "source": [
    "## {}.difference"
   ]
  },
  {
   "cell_type": "code",
   "execution_count": null,
   "metadata": {},
   "outputs": [],
   "source": [
    "conjunto_a = {1, 2, 3}\n",
    "conjunto_b = {2, 3, 4}\n",
    "\n",
    "conjunto_a.difference(conjunto_b)\n",
    "conjunto_b.difference(conjunto_a)"
   ]
  },
  {
   "cell_type": "markdown",
   "metadata": {},
   "source": [
    "## {}.symmetric_difference"
   ]
  },
  {
   "cell_type": "code",
   "execution_count": null,
   "metadata": {},
   "outputs": [],
   "source": [
    "conjunto_a = {1, 2, 3}\n",
    "conjunto_b = {2, 3, 4}\n",
    "\n",
    "conjunto_a.symmetric_difference(conjunto_b)"
   ]
  },
  {
   "cell_type": "markdown",
   "metadata": {},
   "source": [
    "## {}.issubset"
   ]
  },
  {
   "cell_type": "code",
   "execution_count": null,
   "metadata": {},
   "outputs": [],
   "source": [
    "conjunto_a = {1, 2, 3}\n",
    "conjunto_b = {4, 1, 2, 5, 6, 3}\n",
    "\n",
    "conjunto_a.issubset(conjunto_b)\n",
    "conjunto_b.issubset(conjunto_a)"
   ]
  },
  {
   "cell_type": "markdown",
   "metadata": {},
   "source": [
    "## {}.issuperset"
   ]
  },
  {
   "cell_type": "code",
   "execution_count": null,
   "metadata": {},
   "outputs": [],
   "source": [
    "conjunto_a = {1, 2, 3}\n",
    "conjunto_b = {4, 1, 2, 5, 6, 3}\n",
    "\n",
    "conjunto_a.issuperset(conjunto_b)\n",
    "conjunto_b.issuperset(conjunto_a)"
   ]
  },
  {
   "cell_type": "markdown",
   "metadata": {},
   "source": [
    "## {}.isdisjoint"
   ]
  },
  {
   "cell_type": "code",
   "execution_count": null,
   "metadata": {},
   "outputs": [],
   "source": [
    "conjunto_a = {1, 2, 3, 4, 5}\n",
    "conjunto_b = {6, 7, 8, 9}\n",
    "conjunto_c = {1, 0}\n",
    "\n",
    "conjunto_a.isdisjoint(conjunto_b)\n",
    "conjunto_a.isdisjoint(conjunto_c)"
   ]
  },
  {
   "cell_type": "markdown",
   "metadata": {},
   "source": [
    "## {}.add"
   ]
  },
  {
   "cell_type": "code",
   "execution_count": null,
   "metadata": {},
   "outputs": [],
   "source": [
    "sorteio = {1, 23}\n",
    "\n",
    "sorteio.add(25)"
   ]
  },
  {
   "cell_type": "markdown",
   "metadata": {},
   "source": []
  }
 ],
 "metadata": {
  "language_info": {
   "name": "python"
  },
  "orig_nbformat": 4
 },
 "nbformat": 4,
 "nbformat_minor": 2
}
