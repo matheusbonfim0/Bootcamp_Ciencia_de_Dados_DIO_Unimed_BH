{
 "cells": [
  {
   "cell_type": "markdown",
   "metadata": {},
   "source": [
    "# Os conceitos de classes e objetos"
   ]
  },
  {
   "cell_type": "markdown",
   "metadata": {},
   "source": [
    "- ## Classes e objetos?"
   ]
  },
  {
   "cell_type": "markdown",
   "metadata": {},
   "source": [
    "- ### Uma classe define as características e comportamentos de um objeto, porém não conseguimos usá-las diretamente. \n",
    "- ### Já os objetos podemos usá-los e eles possuem as características e comportamentos que foram definidos nas classes."
   ]
  },
  {
   "cell_type": "markdown",
   "metadata": {},
   "source": [
    "- ### Exemplo Classe: "
   ]
  },
  {
   "cell_type": "code",
   "execution_count": null,
   "metadata": {},
   "outputs": [],
   "source": [
    "class Cachorro:\n",
    "  def __init__(self, nome, cor, acordado= True):\n",
    "    self.nome = nome\n",
    "    self.cor = cor\n",
    "    self.acordado =acordado\n",
    "  \n",
    "  def latir(self):\n",
    "    print('Auau')\n",
    "\n",
    "  def dormir(self):\n",
    "    self.acordado = False\n",
    "    print('Zzzzz...')"
   ]
  },
  {
   "cell_type": "markdown",
   "metadata": {},
   "source": [
    "- ### Exemplo Objeto:"
   ]
  },
  {
   "cell_type": "code",
   "execution_count": null,
   "metadata": {},
   "outputs": [],
   "source": [
    "cao_1 = Cachorro('chappie', 'amarelo', False)\n",
    "cao_2 = Cachorro('Aladim', 'branco e preto')\n",
    "\n",
    "cao_1.latir()\n",
    "\n",
    "print(cao_2.acordado)\n",
    "cao_2.dormir()\n",
    "print(cao_2.acordado)"
   ]
  },
  {
   "cell_type": "markdown",
   "metadata": {},
   "source": [
    "- #### Desafio: \n",
    "\n",
    "  - #### João tem uma bicicleta e gostaria de registrar as vendas de suas bicicletas. Crie um programa onde João informe: cor, modelo, ano e valor da bicicleta vendida.\n",
    "  - #### Uma bicicleta pode buzinar, parar e correr. Adicione esses comportamentos "
   ]
  },
  {
   "cell_type": "code",
   "execution_count": null,
   "metadata": {},
   "outputs": [],
   "source": [
    "class Bicicleta:\n",
    "  def __init__(self, cor, modelo, ano, valor):\n",
    "    self.cor = cor\n",
    "    self.modelo = modelo\n",
    "    self.ano = ano\n",
    "    self.valor = valor\n",
    "\n",
    "  def buzinar():\n",
    "    print('bi bi...')\n",
    "  \n",
    "  def parar():\n",
    "    print('Pare')\n",
    "\n",
    "  def correr():\n",
    "    print('Run Forest, RUNNN!!!')\n"
   ]
  },
  {
   "cell_type": "markdown",
   "metadata": {},
   "source": [
    "## Representação de classes"
   ]
  },
  {
   "cell_type": "markdown",
   "metadata": {},
   "source": [
    "    def __str__(self):\n",
    "      return f'{self.__class__.__name__}: {', '.join([f'{chave} = {valor}' for chave, valor in self.__dict__.items()])}'"
   ]
  },
  {
   "cell_type": "markdown",
   "metadata": {},
   "source": []
  }
 ],
 "metadata": {
  "language_info": {
   "name": "python"
  },
  "orig_nbformat": 4
 },
 "nbformat": 4,
 "nbformat_minor": 2
}
