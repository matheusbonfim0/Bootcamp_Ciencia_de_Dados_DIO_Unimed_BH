{
 "cells": [
  {
   "cell_type": "code",
   "execution_count": null,
   "metadata": {},
   "outputs": [],
   "source": [
    "class Animal:\n",
    "  def __init__(self, nro_patas):\n",
    "    self.nro_patas = nro_patas\n",
    "\n",
    "  def __str__(self):\n",
    "    return f\"{self.__class__.__name__}: {', '.join([f'{chave} = {valor}' for chave, valor in self.__dict__.items()])}\"\n",
    "\n",
    "class Mamifero(Animal):\n",
    "  def __init__(self, cor_pelo, **kw):\n",
    "    self.cor_pelo = cor_pelo\n",
    "    super().__init__(**kw)\n",
    "\n",
    "class Ave(Animal):\n",
    "  def __init__(self, cor_bico, **kw):\n",
    "    self.cor_bico = cor_bico\n",
    "    super().__init__(**kw)\n",
    "\n",
    "class Cachorro(Mamifero):\n",
    "  pass\n",
    "\n",
    "class Ornitorrinco(Mamifero, Ave):\n",
    "  pass"
   ]
  }
 ],
 "metadata": {
  "kernelspec": {
   "display_name": "Python 3.10.6 64-bit",
   "language": "python",
   "name": "python3"
  },
  "language_info": {
   "name": "python",
   "version": "3.10.6"
  },
  "orig_nbformat": 4,
  "vscode": {
   "interpreter": {
    "hash": "98590ff4fe04c8543246b2a01debd3de3c5ca9b666f43f1fa87d5110c692004c"
   }
  }
 },
 "nbformat": 4,
 "nbformat_minor": 2
}
