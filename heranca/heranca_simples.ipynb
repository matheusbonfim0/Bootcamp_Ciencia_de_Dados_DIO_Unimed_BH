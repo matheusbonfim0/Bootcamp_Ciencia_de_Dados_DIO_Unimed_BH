{
 "cells": [
  {
   "cell_type": "code",
   "execution_count": null,
   "metadata": {},
   "outputs": [],
   "source": [
    "class Veiculo:\n",
    "  def __init__(\n",
    "    self,\n",
    "    cor,\n",
    "    placa,\n",
    "    numero_rodas\n",
    "  ):\n",
    "    self.cor = cor\n",
    "    self.placa = placa\n",
    "    self.numero_rodas = numero_rodas\n",
    "  \n",
    "  def ligar_motor(self):\n",
    "    print('Ligando o motor')\n",
    "\n",
    "  def __str__(self):\n",
    "    return self.cor\n",
    "\n",
    "class Motocicleta(Veiculo):\n",
    "  pass\n",
    "\n",
    "class Carro(Veiculo):\n",
    "  pass\n",
    "\n",
    "class Caminhao(Veiculo):\n",
    "  def __init__(self, cor, placa, numero_rodas, carregado):\n",
    "    super().__init__(cor, placa, numero_rodas)\n",
    "    self.carregado = carregado\n",
    "\n",
    "  def esta_carregado(self):\n",
    "    print(f\"{'Sim' if self.carregado else 'Não'} estou carregado\")\n",
    "\n",
    "\n",
    "moto = Motocicleta('preta', 'asd1234', 2)\n",
    "moto.ligar_motor()\n",
    "\n"
   ]
  }
 ],
 "metadata": {
  "kernelspec": {
   "display_name": "Python 3.10.6 64-bit",
   "language": "python",
   "name": "python3"
  },
  "language_info": {
   "name": "python",
   "version": "3.10.6"
  },
  "orig_nbformat": 4,
  "vscode": {
   "interpreter": {
    "hash": "98590ff4fe04c8543246b2a01debd3de3c5ca9b666f43f1fa87d5110c692004c"
   }
  }
 },
 "nbformat": 4,
 "nbformat_minor": 2
}
