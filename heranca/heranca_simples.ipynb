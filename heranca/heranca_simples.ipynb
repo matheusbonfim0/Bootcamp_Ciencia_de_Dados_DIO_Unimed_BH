{
 "cells": [
  {
   "cell_type": "code",
   "execution_count": null,
   "metadata": {},
   "outputs": [],
   "source": [
    "class Veiculo:\n",
    "  def __init__(\n",
    "    self,\n",
    "    cor,\n",
    "    placa,\n",
    "    numero_rodas\n",
    "  ):\n",
    "    self.cor = cor\n",
    "    self.placa = placa\n",
    "    self.numero_rodas = numero_rodas\n",
    "  \n",
    "  def ligar_motor(self):\n",
    "    print('Ligando o motor')\n",
    "\n",
    "class Motocicleta(Veiculo):\n",
    "  pass\n",
    "\n",
    "class Carro(Veiculo):\n",
    "  pass\n",
    "\n",
    "class Caminhao(Veiculo):\n",
    "  pass\n",
    "\n",
    "\n",
    "moto = Motocicleta('preta', 'asd1234', 2)\n",
    "moto.ligar_motor()\n",
    "\n"
   ]
  }
 ],
 "metadata": {
  "language_info": {
   "name": "python"
  },
  "orig_nbformat": 4
 },
 "nbformat": 4,
 "nbformat_minor": 2
}
