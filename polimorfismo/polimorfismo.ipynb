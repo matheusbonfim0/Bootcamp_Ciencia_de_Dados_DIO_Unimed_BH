{
 "cells": [
  {
   "cell_type": "markdown",
   "metadata": {},
   "source": [
    "# O que é Polimorfismo?"
   ]
  },
  {
   "cell_type": "markdown",
   "metadata": {},
   "source": [
    "### A palavra polimorfismo significa ter muitas formas. Na programação, polimorfismo significa o mesmo nome de função (mas assinaturas diferentes) sendo usado para tipos diferentes."
   ]
  },
  {
   "cell_type": "markdown",
   "metadata": {},
   "source": [
    "## Polimorfismo com herança"
   ]
  },
  {
   "cell_type": "markdown",
   "metadata": {},
   "source": [
    "### Na herança, a classe filha herda os métodos da classe pai. No entando, é possível modificar um método em uma classe filha herdada da classe pai. Isso é particularmente útil nos casos em que o método herdado da classe pai não se encaixa perfeitamente na classe filha"
   ]
  },
  {
   "cell_type": "markdown",
   "metadata": {},
   "source": [
    "#### Ex:"
   ]
  },
  {
   "cell_type": "code",
   "execution_count": null,
   "metadata": {},
   "outputs": [],
   "source": [
    "class Passaro:\n",
    "  def voar(self):\n",
    "    print('Voando ...')\n",
    "\n",
    "class Pardal(Passaro):\n",
    "  def voar(self):\n",
    "    super().voar()\n",
    "\n",
    "class Avestruz(Passaro):\n",
    "  def voar(self):\n",
    "    print('Avenstruz não pode voar')\n",
    "\n",
    "def plano_de_voo(obj):\n",
    "  obj.voar()\n",
    "\n"
   ]
  }
 ],
 "metadata": {
  "language_info": {
   "name": "python"
  },
  "orig_nbformat": 4
 },
 "nbformat": 4,
 "nbformat_minor": 2
}
