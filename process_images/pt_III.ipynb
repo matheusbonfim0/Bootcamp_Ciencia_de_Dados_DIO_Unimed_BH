{
 "cells": [
  {
   "cell_type": "code",
   "execution_count": null,
   "metadata": {},
   "outputs": [],
   "source": [
    "# combination.py\n",
    "\n",
    "import numpy as np\n",
    "from skimage.color import rgb2gray\n",
    "from skimage.exposure import match_histogram\n",
    "from skimage.metrics import structural_similarity\n",
    "\n",
    "def find_difference(image1, image2):\n",
    "  assert image1.shape == image2.shape, \"Specify 2 images with the same shape.\"\n",
    "  gray_image1 = rgb2gray(image1)\n",
    "  gray_image2 = rgb2gray(image2)\n",
    "  (score, difference_image) = structural_similarity(gray_image1, gray_image2, full=True)\n",
    "  print('Similarity of the images:', score)\n",
    "  normalized_difference_image = (difference_image-np.min(difference_image))/(np.max(difference_image)-np.min(difference_image))\n",
    "  return normalized_difference_image\n",
    "\n",
    "def transfer_histogram(image1, image2):\n",
    "  matched_image = match_histogram(image1, image2, multichannel=True)\n",
    "  return matched_image"
   ]
  },
  {
   "cell_type": "code",
   "execution_count": null,
   "metadata": {},
   "outputs": [],
   "source": [
    "# transformation.py\n",
    "\n",
    "from skimage.transform import resize\n",
    "\n",
    "def resize_image(image, proportion):\n",
    "  assert 0 <= proportion <= 1, 'Specify a valid proportion between 0 and 1.'\n",
    "  height = round(image.shape[0] * proportion)\n",
    "  width = round(image.shape[1] * proportion)\n",
    "  image_resized = resize(image, (height, width), anti_aliasing=True)\n",
    "  return image_resized"
   ]
  },
  {
   "cell_type": "code",
   "execution_count": null,
   "metadata": {},
   "outputs": [],
   "source": [
    "# io.py\n",
    "\n",
    "from skimage.io import imread, imsave\n",
    "\n",
    "def read_image(path, is_gray = False):\n",
    "  image = imread(path, as_gray = is_gray)\n",
    "  return image\n",
    "\n",
    "def save_image(image, path):\n",
    "  imsave(path, image)"
   ]
  },
  {
   "cell_type": "code",
   "execution_count": null,
   "metadata": {},
   "outputs": [],
   "source": [
    "# plot.py\n",
    "\n",
    "import matplotlib.pyplot as plt\n",
    "\n",
    "def plot_image(image):\n",
    "  plt.figure(figsize=(12, 4))\n",
    "  plt.imshow(image, cmap='gray')\n",
    "  plt.axis('off')\n",
    "  plt.show()\n",
    "\n",
    "def plot_result(*args):\n",
    "  number_images = len(args)\n",
    "  fig, axis = plt.subplots(nrows=1, ncols= number_images, fig_size=(12, 4))\n",
    "  names_lst = ['image {}'.format(i) for i in range(1, number_images)]\n",
    "  names_lst.append('Result')\n",
    "  for ax, name, image in zip(axis, names_lst, args):\n",
    "    ax.set_title(name)\n",
    "    ax.imshow(image, cmap='gray')\n",
    "    ax.axis('off')\n",
    "  fig.tight_layout()\n",
    "  plt.show()\n",
    "\n",
    "def plot_histogram(image):\n",
    "  fig, axis = plt.subplots(nrows=1, ncols=3, fig_size=(12, 4), sharex=True, sharey=True)\n",
    "  color_lst = [ 'red', 'green', 'blue']\n",
    "  for index, (ax, color) in enumerate(zip(axis, color_lst)):\n",
    "    ax.set_title('{} histogram'.format(color_title()))\n",
    "    ax.hist(image[:, :, index].ravel(), bins=258, color=color, alpha = 0.8)\n",
    "  fig.tight_layout()\n",
    "  plt.show()"
   ]
  }
 ],
 "metadata": {
  "language_info": {
   "name": "python"
  },
  "orig_nbformat": 4
 },
 "nbformat": 4,
 "nbformat_minor": 2
}
