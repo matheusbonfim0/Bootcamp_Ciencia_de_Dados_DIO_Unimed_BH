{
 "cells": [
  {
   "cell_type": "markdown",
   "metadata": {},
   "source": [
    "# Criando o projeto e gerando as distribuições"
   ]
  },
  {
   "cell_type": "markdown",
   "metadata": {},
   "source": [
    "## Exemplos de estruturas\n",
    "\n",
    "    project_name/\n",
    "      README.md\n",
    "      setup.py\n",
    "      requirements.txt\n",
    "      package_name/\n",
    "        __init__.py\n",
    "        file1_name.py\n",
    "        file2_name.py"
   ]
  },
  {
   "cell_type": "markdown",
   "metadata": {},
   "source": [
    "### Para utilizar existem duas formas\n",
    "\n",
    "  - ### import package_name.file1_name\n",
    "  - ### from pachage_name import file1_name"
   ]
  },
  {
   "cell_type": "markdown",
   "metadata": {},
   "source": [
    "## Para uma estrutura com vários módulos"
   ]
  },
  {
   "cell_type": "markdown",
   "metadata": {},
   "source": [
    "    project_name/\n",
    "      README.md\n",
    "      setup.py\n",
    "      requirements.txt\n",
    "      package_name/\n",
    "        __init__.py\n",
    "        module1_na\n",
    "          __init__.py\n",
    "          file1_name.py\n",
    "          file2_name.py\n",
    "        module2_name/\n",
    "          __init__.py\n",
    "          file1_name.py\n",
    "          file2_name.py\n",
    "          "
   ]
  },
  {
   "cell_type": "markdown",
   "metadata": {},
   "source": [
    "### Para utilizar existem duas formas\n",
    "\n",
    "  - ### import package_name.module1_name.file1_name\n",
    "  - ### from pachage_name.module1_name import file1_name"
   ]
  },
  {
   "cell_type": "markdown",
   "metadata": {},
   "source": []
  }
 ],
 "metadata": {
  "kernelspec": {
   "display_name": "Python 3.10.6 64-bit",
   "language": "python",
   "name": "python3"
  },
  "language_info": {
   "name": "python",
   "version": "3.10.6"
  },
  "orig_nbformat": 4,
  "vscode": {
   "interpreter": {
    "hash": "98590ff4fe04c8543246b2a01debd3de3c5ca9b666f43f1fa87d5110c692004c"
   }
  }
 },
 "nbformat": 4,
 "nbformat_minor": 2
}
